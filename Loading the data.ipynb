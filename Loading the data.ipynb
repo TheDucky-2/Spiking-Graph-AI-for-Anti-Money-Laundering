{
 "cells": [
  {
   "metadata": {},
   "cell_type": "markdown",
   "source": "# **Spiking Graph AI for Anti-Money Laundering (AML)**",
   "id": "7389fd36645bcefa"
  },
  {
   "metadata": {},
   "cell_type": "markdown",
   "source": [
    "### Project Overview:\n",
    "\n",
    "This project explores a hybrid AI model for detecting illicit activity in cryptocurrency networks. It combines:\n",
    "\n",
    "- **Graph Neural Networks (GNNs)** – to model the structure of Bitcoin transaction networks\n",
    "- **Spiking Neural Networks (SNNs)** – to capture time-dependent patterns using biologically inspired neurons\n",
    "\n",
    "The model is trained on the **Elliptic Bitcoin dataset**, which includes over 200,000 transactions labeled as licit, illicit, or unknown. By learning both **who is connected to whom** and **how behavior changes over time**, this system aims to detect money laundering patterns more effectively than traditional methods.\n",
    "\n",
    "---\n",
    "\n",
    "### Goals:\n",
    "- Load and explore the Elliptic Bitcoin graph\n",
    "- Encode transaction features into spike trains\n",
    "- Build a GNN baseline for classification\n",
    "- Integrate SNN layers for temporal modeling\n",
    "- Compare performance of GNN-only vs GNN+SNN hybrid\n",
    "\n",
    "---\n",
    "\n",
    "### Tools Used:\n",
    "- `pandas`, `numpy` for data processing\n",
    "- `networkx` for graph visualization\n",
    "- `PyTorch`, `PyTorch Geometric` for GNN modeling\n",
    "- `SpikingJelly` (or custom code) for SNN layers\n",
    "- `matplotlib`, `seaborn` for plots\n",
    "\n",
    "---\n",
    "\n",
    "### Dataset Summary:\n",
    "- 203,769 nodes (Bitcoin transactions)\n",
    "- 234,355 edges (connections between transactions)\n",
    "- 166 features per node\n",
    "- 49 time steps (discrete buckets)\n",
    "- Labels:\n",
    "  - `1` = Illicit\n",
    "  - `0` = Licit\n",
    "  - `-1` = Unknown (semi-supervised)\n",
    "\n",
    "---\n",
    "\n",
    "Let's begin by loading and visualizing the transaction network!\n"
   ],
   "id": "976b0e5d677cd470"
  },
  {
   "metadata": {},
   "cell_type": "markdown",
   "source": "### STEP 1: LOADING THE DATA",
   "id": "719bc13842e66904"
  },
  {
   "cell_type": "code",
   "id": "initial_id",
   "metadata": {
    "collapsed": true,
    "ExecuteTime": {
     "end_time": "2025-07-05T15:47:33.864876Z",
     "start_time": "2025-07-05T15:47:33.572237Z"
    }
   },
   "source": [
    "import pandas as pd\n",
    "\n",
    "data = pd.read_csv(r'elliptic_txs_edgelist.csv')\n",
    "\n",
    "data.head()"
   ],
   "outputs": [
    {
     "data": {
      "text/plain": [
       "       txId1      txId2\n",
       "0  230425980    5530458\n",
       "1  232022460  232438397\n",
       "2  230460314  230459870\n",
       "3  230333930  230595899\n",
       "4  232013274  232029206"
      ],
      "text/html": [
       "<div>\n",
       "<style scoped>\n",
       "    .dataframe tbody tr th:only-of-type {\n",
       "        vertical-align: middle;\n",
       "    }\n",
       "\n",
       "    .dataframe tbody tr th {\n",
       "        vertical-align: top;\n",
       "    }\n",
       "\n",
       "    .dataframe thead th {\n",
       "        text-align: right;\n",
       "    }\n",
       "</style>\n",
       "<table border=\"1\" class=\"dataframe\">\n",
       "  <thead>\n",
       "    <tr style=\"text-align: right;\">\n",
       "      <th></th>\n",
       "      <th>txId1</th>\n",
       "      <th>txId2</th>\n",
       "    </tr>\n",
       "  </thead>\n",
       "  <tbody>\n",
       "    <tr>\n",
       "      <th>0</th>\n",
       "      <td>230425980</td>\n",
       "      <td>5530458</td>\n",
       "    </tr>\n",
       "    <tr>\n",
       "      <th>1</th>\n",
       "      <td>232022460</td>\n",
       "      <td>232438397</td>\n",
       "    </tr>\n",
       "    <tr>\n",
       "      <th>2</th>\n",
       "      <td>230460314</td>\n",
       "      <td>230459870</td>\n",
       "    </tr>\n",
       "    <tr>\n",
       "      <th>3</th>\n",
       "      <td>230333930</td>\n",
       "      <td>230595899</td>\n",
       "    </tr>\n",
       "    <tr>\n",
       "      <th>4</th>\n",
       "      <td>232013274</td>\n",
       "      <td>232029206</td>\n",
       "    </tr>\n",
       "  </tbody>\n",
       "</table>\n",
       "</div>"
      ]
     },
     "execution_count": 11,
     "metadata": {},
     "output_type": "execute_result"
    }
   ],
   "execution_count": 11
  },
  {
   "metadata": {},
   "cell_type": "markdown",
   "source": [
    "After loading the data, we will create a graph, or to be specific, a directed graph. A directed graph means it has directed relationships. Like A -> B, but it is not the same as B -> A. Just know, that in a graph, nodes(entities) are like end points, and edges are relationships between them.\n",
    "\n",
    "For example, lets say i'm sending money to my friend.\n",
    "\n",
    "My account(a node) -> Friend's account(a node).\n",
    "\n",
    "I(node) sent money(edge) to my friend(node), can be considered as an edge between two nodes.\n",
    "\n",
    "We can now create a directed graph using NetworkX library from python. It can be created like this.\n",
    "\n",
    "G = nx.from_pandas_edgelist(data, node1(source), node2(target), create_using=nx.DiGraph())"
   ],
   "id": "4e59bcf41a5f4ad3"
  },
  {
   "metadata": {},
   "cell_type": "markdown",
   "source": "**Creating a DIRECTED GRAPH**",
   "id": "9644532ce88d3df2"
  },
  {
   "metadata": {
    "ExecuteTime": {
     "end_time": "2025-07-05T16:32:08.500772Z",
     "start_time": "2025-07-05T16:32:01.885987Z"
    }
   },
   "cell_type": "code",
   "source": [
    "import networkx as nx\n",
    "import matplotlib.pyplot as plt\n",
    "\n",
    "Graph = nx.from_pandas_edgelist(data, 'txId1', 'txId2', create_using=nx.DiGraph())    # Creating a directed graph."
   ],
   "id": "fe3dc1136d57a8b9",
   "outputs": [],
   "execution_count": 31
  },
  {
   "metadata": {},
   "cell_type": "markdown",
   "source": "**Checking for number of nodes and edges**",
   "id": "7b8073019f93219d"
  },
  {
   "metadata": {
    "ExecuteTime": {
     "end_time": "2025-07-05T15:52:11.285131Z",
     "start_time": "2025-07-05T15:52:10.994190Z"
    }
   },
   "cell_type": "code",
   "source": [
    "print(Graph.number_of_nodes())\n",
    "print(Graph.number_of_edges())"
   ],
   "id": "4dd1762a7677d611",
   "outputs": [
    {
     "name": "stdout",
     "output_type": "stream",
     "text": [
      "203769\n",
      "234355\n"
     ]
    }
   ],
   "execution_count": 15
  },
  {
   "metadata": {},
   "cell_type": "markdown",
   "source": "Now we will view the first 5 nodes of the Graph.",
   "id": "485ce55a784169f2"
  },
  {
   "metadata": {
    "ExecuteTime": {
     "end_time": "2025-07-05T15:54:47.396584Z",
     "start_time": "2025-07-05T15:54:47.369968Z"
    }
   },
   "cell_type": "code",
   "source": "list(Graph.nodes)[:5]",
   "id": "8c273081d85fa607",
   "outputs": [
    {
     "data": {
      "text/plain": [
       "[230425980, 5530458, 232022460, 232438397, 230460314]"
      ]
     },
     "execution_count": 18,
     "metadata": {},
     "output_type": "execute_result"
    }
   ],
   "execution_count": 18
  },
  {
   "metadata": {},
   "cell_type": "markdown",
   "source": "**Please Note** Nodes created on a graph through NetworkX or any library cannot be viewed as a list, because they are a view-like object(Node.View in NetworkX), which is why, to view and access the number of nodes in sequence like first 5 or first 10, like we do with lists by slicing [:5], won't work with them. So, we convert the nodes into a list and then access them by slicers. Which is why you may note that the items were accessed by putting the slicers outside of the parantheses like: list **(Graph.nodes)[:5]**, unlike with lists like: **Graph.nodes[:5]** :\n",
   "id": "fb30f06e7793a8f3"
  },
  {
   "metadata": {
    "ExecuteTime": {
     "end_time": "2025-07-05T16:07:25.541980Z",
     "start_time": "2025-07-05T16:07:25.519637Z"
    }
   },
   "cell_type": "code",
   "source": "list(Graph.successors(230460314))   # This shows us all the nodes we have edges with, with 230460314 being the initial node.",
   "id": "882228a237d4cfa4",
   "outputs": [
    {
     "data": {
      "text/plain": [
       "[230459870,\n",
       " 230460307,\n",
       " 230459688,\n",
       " 230570333,\n",
       " 230459930,\n",
       " 3276131,\n",
       " 230575202,\n",
       " 230569936]"
      ]
     },
     "execution_count": 23,
     "metadata": {},
     "output_type": "execute_result"
    }
   ],
   "execution_count": 23
  },
  {
   "metadata": {},
   "cell_type": "markdown",
   "source": [
    "**NOTE:** You may notice that even **Graph.successors** are wrapped in a list, and that is because `Graph.successors(node)` returns an iterator, not a list. An iterator is like a one-time use object that lets you loop through items one by one.\n",
    "\n",
    "For example: Let's say we want to see all the nodes that have edges with the node 230460314."
   ],
   "id": "8d987f0ea8e19cef"
  },
  {
   "metadata": {
    "ExecuteTime": {
     "end_time": "2025-07-05T16:11:59.900083Z",
     "start_time": "2025-07-05T16:11:59.883114Z"
    }
   },
   "cell_type": "code",
   "source": "Graph.successors(230460314)",
   "id": "3c596e01c4f52f01",
   "outputs": [
    {
     "data": {
      "text/plain": [
       "<dict_keyiterator at 0x2115fca7420>"
      ]
     },
     "execution_count": 27,
     "metadata": {},
     "output_type": "execute_result"
    }
   ],
   "execution_count": 27
  },
  {
   "metadata": {
    "ExecuteTime": {
     "end_time": "2025-07-05T16:12:01.240720Z",
     "start_time": "2025-07-05T16:12:01.220752Z"
    }
   },
   "cell_type": "code",
   "source": [
    "gs = Graph.successors(230460314)\n",
    "\n",
    "for g in gs:\n",
    "\n",
    "  print(g)"
   ],
   "id": "ecaedfa642636c5e",
   "outputs": [
    {
     "name": "stdout",
     "output_type": "stream",
     "text": [
      "230459870\n",
      "230460307\n",
      "230459688\n",
      "230570333\n",
      "230459930\n",
      "3276131\n",
      "230575202\n",
      "230569936\n"
     ]
    }
   ],
   "execution_count": 28
  },
  {
   "metadata": {},
   "cell_type": "markdown",
   "source": "As we can see, we can loop through the iterator `gs`",
   "id": "93ff3f1f91fdc47a"
  },
  {
   "metadata": {
    "ExecuteTime": {
     "end_time": "2025-07-05T16:14:50.311249Z",
     "start_time": "2025-07-05T16:14:50.206747Z"
    }
   },
   "cell_type": "code",
   "source": "list(Graph.predecessors(230569936))  # leads back to the original node.",
   "id": "59a7a5d38d305d40",
   "outputs": [
    {
     "data": {
      "text/plain": [
       "[230460314]"
      ]
     },
     "execution_count": 29,
     "metadata": {},
     "output_type": "execute_result"
    }
   ],
   "execution_count": 29
  },
  {
   "metadata": {},
   "cell_type": "markdown",
   "source": "### Visualizing the Graph",
   "id": "c5187944722bd245"
  },
  {
   "metadata": {
    "ExecuteTime": {
     "end_time": "2025-07-05T16:41:08.936437Z",
     "start_time": "2025-07-05T16:41:08.520885Z"
    }
   },
   "cell_type": "code",
   "source": [
    "node_id = 232022460\n",
    "\n",
    "successors = list(Graph.successors(node_id))\n",
    "predecessors = list(Graph.predecessors(node_id))\n",
    "\n",
    "# We will wrap node_id with [] to make a list so that we can CONCATENATE successors and predecessors with it.\n",
    "\n",
    "nodes_to_add = [node_id] + successors + predecessors\n",
    "\n",
    "subgraph = Graph.subgraph(nodes_to_add) # creating a subgraph out of the main graph, to not affect it as a whole.\n",
    "\n",
    "# Creating a Subgraph\n",
    "\n",
    "plt.figure(figsize=(8,6))  # creating a figure 8 inches wide, 6 inches tall.\n",
    "nx.draw(subgraph, with_labels= True, node_size = 500, node_color= 'blue')\n",
    "plt.title(f\"Neighborhood of Transactions of node: {node_id}\")\n",
    "plt.show()\n"
   ],
   "id": "eaa29e238c5ffdbf",
   "outputs": [
    {
     "data": {
      "text/plain": [
       "<Figure size 800x600 with 1 Axes>"
      ],
      "image/png": "[encoded data removed]"
     },
     "metadata": {},
     "output_type": "display_data"
    }
   ],
   "execution_count": 37
  }
 ],
 "metadata": {
  "kernelspec": {
   "display_name": "Python 3",
   "language": "python",
   "name": "python3"
  },
  "language_info": {
   "codemirror_mode": {
    "name": "ipython",
    "version": 2
   },
   "file_extension": ".py",
   "mimetype": "text/x-python",
   "name": "python",
   "nbconvert_exporter": "python",
   "pygments_lexer": "ipython2",
   "version": "2.7.6"
  }
 },
 "nbformat": 4,
 "nbformat_minor": 5
}
